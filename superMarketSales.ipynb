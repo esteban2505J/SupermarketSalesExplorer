{
 "cells": [
  {
   "cell_type": "markdown",
   "id": "803bebf3",
   "metadata": {},
   "source": [
    "## Context of the Project\n",
    "\n",
    "The Supermarket Sales project aims to analyze sales data from a supermarket to gain insights into customer behavior, sales trends, and inventory management. By leveraging data analysis and visualization techniques, the project seeks to answer key business questions and support decision-making processes.\n"
   ]
  },
  {
   "cell_type": "markdown",
   "id": "8d4e0032",
   "metadata": {},
   "source": [
    "# Datas Description\n",
    "\n",
    "### Columns:\n",
    "\n",
    "- **Invoice ID**: Unique identifier for each transaction.\n",
    "- **Branch**: The branch of the supermarket where the transaction took place (A, B, or C).\n",
    "- **City**: The city where the branch is located (e.g., New York, Los Angeles, Chicago).\n",
    "- **Customer Type**: Type of customer (e.g., Member, Normal).\n",
    "- **Gender**: Gender of the customer (Male, Female).\n",
    "- **Product Line**: Category of products purchased (e.g., Health and beauty, Electronic accessories, Home and lifestyle, Sports and travel, Food and beverages, Fashion accessories).\n",
    "- **Unit Price**: Price per unit of the product.\n",
    "- **Quantity**: Number of units purchased.\n",
    "- **Tax 5%**: Tax amount applied to the transaction (5% of the total price).\n",
    "- **Total**: Total amount paid by the customer (including tax). \n",
    "- **Rewarded Points**: Loyalty points earned by the customer from the transaction."
   ]
  },
  {
   "cell_type": "code",
   "execution_count": null,
   "id": "6d62ac7b",
   "metadata": {},
   "outputs": [],
   "source": [
    "# Imports \n",
    "\n",
    "import os\n",
    "import pandas as pd\n",
    "import numpy as np\n",
    "import matplotlib.pyplot as plt\n",
    "import seaborn as sns\n",
    "\n",
    "\n"
   ]
  }
 ],
 "metadata": {
  "kernelspec": {
   "display_name": "Python 3",
   "language": "python",
   "name": "python3"
  },
  "language_info": {
   "name": "python",
   "version": "3.13.6"
  }
 },
 "nbformat": 4,
 "nbformat_minor": 5
}
