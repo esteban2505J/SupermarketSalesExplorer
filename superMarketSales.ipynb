{
 "cells": [
  {
   "cell_type": "markdown",
   "id": "803bebf3",
   "metadata": {},
   "source": [
    "## Context of the Project\n",
    "\n",
    "The Supermarket Sales project aims to analyze sales data from a supermarket to gain insights into customer behavior, sales trends, and inventory management. By leveraging data analysis and visualization techniques, the project seeks to answer key business questions and support decision-making processes.\n"
   ]
  },
  {
   "cell_type": "markdown",
   "id": "8d4e0032",
   "metadata": {},
   "source": [
    "# Datas Description\n",
    "\n",
    "### Columns:\n",
    "\n",
    "- **Invoice ID**: Unique identifier for each transaction.\n",
    "- **Branch**: The branch of the supermarket where the transaction took place (A, B, or C).\n",
    "- **City**: The city where the branch is located (e.g., New York, Los Angeles, Chicago).\n",
    "- **Customer Type**: Type of customer (e.g., Member, Normal).\n",
    "- **Gender**: Gender of the customer (Male, Female).\n",
    "- **Product Line**: Category of products purchased (e.g., Health and beauty, Electronic accessories, Home and lifestyle, Sports and travel, Food and beverages, Fashion accessories).\n",
    "- **Unit Price**: Price per unit of the product.\n",
    "- **Quantity**: Number of units purchased.\n",
    "- **Tax 5%**: Tax amount applied to the transaction (5% of the total price).\n",
    "- **Total**: Total amount paid by the customer (including tax). \n",
    "- **Rewarded Points**: Loyalty points earned by the customer from the transaction."
   ]
  },
  {
   "cell_type": "code",
   "execution_count": 4,
   "id": "6d62ac7b",
   "metadata": {},
   "outputs": [],
   "source": [
    "# Imports \n",
    "\n",
    "import os\n",
    "import pandas as pd\n",
    "import numpy as np\n",
    "import matplotlib.pyplot as plt\n",
    "import seaborn as sns\n",
    "\n"
   ]
  },
  {
   "cell_type": "code",
   "execution_count": null,
   "id": "b2d96b11",
   "metadata": {},
   "outputs": [
    {
     "name": "stdout",
     "output_type": "stream",
     "text": [
      "0\n",
      "Empty DataFrame\n",
      "Columns: [sale_id, branch, city, customer_type, gender, product_name, product_category, unit_price, quantity, tax, total_price, reward_points]\n",
      "Index: []\n",
      "++ Empty DataFrame\n",
      "Columns: [sale_id, branch, city, customer_type, gender, product_name, product_category, unit_price, quantity, tax, total_price, reward_points]\n",
      "Index: []\n"
     ]
    }
   ],
   "source": [
    "# Load dataset\n",
    "df = pd.read_csv(r'data\\sales.csv')\n",
    "\n",
    "# Show the firt 5 rows of the dataframe\n",
    "df.head()\n",
    "\n",
    "\n",
    "\n",
    "# check for duplicates for 'sale_id' column\n",
    "amount_duplicates = df['sale_id'].duplicated().sum()\n",
    "\n",
    "# print the amount of duplicates\n",
    "print(amount_duplicates)    \n",
    "\n",
    "# Get all duplicate rows based on 'sale_id' column\n",
    "duplicates = df[df.duplicated(subset=['sale_id'],keep=False)]\n",
    "\n",
    "# Show all duplicate rows\n",
    "print(duplicates)\n",
    "\n",
    "# Show all rows where there are null values\n",
    "null_values = df[df.isnull().any(axis=1)]\n",
    "print('->', null_values)\n"
   ]
  },
  {
   "cell_type": "code",
   "execution_count": null,
   "id": "d036b19e",
   "metadata": {},
   "outputs": [
    {
     "name": "stdout",
     "output_type": "stream",
     "text": [
      "sale_id               int64\n",
      "branch               object\n",
      "city                 object\n",
      "customer_type        object\n",
      "gender               object\n",
      "product_name         object\n",
      "product_category     object\n",
      "unit_price          float64\n",
      "quantity              int64\n",
      "tax                 float64\n",
      "total_price         float64\n",
      "reward_points         int64\n",
      "dtype: object\n"
     ]
    }
   ],
   "source": [
    "for colum in df.select_dtypes('object').columns:\n",
    "    df[colum] = (df[colum]\n",
    "                 .str.strip()\n",
    "                 .replace('\"', '')\n",
    "                 .str.lower()\n",
    "                 )\n",
    "\n",
    "\n",
    "df.head()\n",
    "\n",
    "# Check data types of each column\n",
    "print(df.dtypes)\n",
    "    "
   ]
  },
  {
   "cell_type": "code",
   "execution_count": null,
   "id": "019ca9ee",
   "metadata": {},
   "outputs": [
    {
     "ename": "KeyError",
     "evalue": "'Column not found: total_sale'",
     "output_type": "error",
     "traceback": [
      "\u001b[31m---------------------------------------------------------------------------\u001b[39m",
      "\u001b[31mKeyError\u001b[39m                                  Traceback (most recent call last)",
      "\u001b[36mCell\u001b[39m\u001b[36m \u001b[39m\u001b[32mIn[30]\u001b[39m\u001b[32m, line 1\u001b[39m\n\u001b[32m----> \u001b[39m\u001b[32m1\u001b[39m ventas_por_ciudad = \u001b[43mdf\u001b[49m\u001b[43m.\u001b[49m\u001b[43mgroupby\u001b[49m\u001b[43m(\u001b[49m\u001b[33;43m'\u001b[39;49m\u001b[33;43mcity\u001b[39;49m\u001b[33;43m'\u001b[39;49m\u001b[43m)\u001b[49m\u001b[43m[\u001b[49m\u001b[33;43m'\u001b[39;49m\u001b[33;43mtotal_sale\u001b[39;49m\u001b[33;43m'\u001b[39;49m\u001b[43m]\u001b[49m.sum()\n\u001b[32m      3\u001b[39m \u001b[38;5;28mprint\u001b[39m(ventas_por_ciudad)\n",
      "\u001b[36mFile \u001b[39m\u001b[32mc:\\Users\\newUs\\AppData\\Local\\Programs\\Python\\Python313\\Lib\\site-packages\\pandas\\core\\groupby\\generic.py:1951\u001b[39m, in \u001b[36mDataFrameGroupBy.__getitem__\u001b[39m\u001b[34m(self, key)\u001b[39m\n\u001b[32m   1944\u001b[39m \u001b[38;5;28;01mif\u001b[39;00m \u001b[38;5;28misinstance\u001b[39m(key, \u001b[38;5;28mtuple\u001b[39m) \u001b[38;5;129;01mand\u001b[39;00m \u001b[38;5;28mlen\u001b[39m(key) > \u001b[32m1\u001b[39m:\n\u001b[32m   1945\u001b[39m     \u001b[38;5;66;03m# if len == 1, then it becomes a SeriesGroupBy and this is actually\u001b[39;00m\n\u001b[32m   1946\u001b[39m     \u001b[38;5;66;03m# valid syntax, so don't raise\u001b[39;00m\n\u001b[32m   1947\u001b[39m     \u001b[38;5;28;01mraise\u001b[39;00m \u001b[38;5;167;01mValueError\u001b[39;00m(\n\u001b[32m   1948\u001b[39m         \u001b[33m\"\u001b[39m\u001b[33mCannot subset columns with a tuple with more than one element. \u001b[39m\u001b[33m\"\u001b[39m\n\u001b[32m   1949\u001b[39m         \u001b[33m\"\u001b[39m\u001b[33mUse a list instead.\u001b[39m\u001b[33m\"\u001b[39m\n\u001b[32m   1950\u001b[39m     )\n\u001b[32m-> \u001b[39m\u001b[32m1951\u001b[39m \u001b[38;5;28;01mreturn\u001b[39;00m \u001b[38;5;28;43msuper\u001b[39;49m\u001b[43m(\u001b[49m\u001b[43m)\u001b[49m\u001b[43m.\u001b[49m\u001b[34;43m__getitem__\u001b[39;49m\u001b[43m(\u001b[49m\u001b[43mkey\u001b[49m\u001b[43m)\u001b[49m\n",
      "\u001b[36mFile \u001b[39m\u001b[32mc:\\Users\\newUs\\AppData\\Local\\Programs\\Python\\Python313\\Lib\\site-packages\\pandas\\core\\base.py:244\u001b[39m, in \u001b[36mSelectionMixin.__getitem__\u001b[39m\u001b[34m(self, key)\u001b[39m\n\u001b[32m    242\u001b[39m \u001b[38;5;28;01melse\u001b[39;00m:\n\u001b[32m    243\u001b[39m     \u001b[38;5;28;01mif\u001b[39;00m key \u001b[38;5;129;01mnot\u001b[39;00m \u001b[38;5;129;01min\u001b[39;00m \u001b[38;5;28mself\u001b[39m.obj:\n\u001b[32m--> \u001b[39m\u001b[32m244\u001b[39m         \u001b[38;5;28;01mraise\u001b[39;00m \u001b[38;5;167;01mKeyError\u001b[39;00m(\u001b[33mf\u001b[39m\u001b[33m\"\u001b[39m\u001b[33mColumn not found: \u001b[39m\u001b[38;5;132;01m{\u001b[39;00mkey\u001b[38;5;132;01m}\u001b[39;00m\u001b[33m\"\u001b[39m)\n\u001b[32m    245\u001b[39m     ndim = \u001b[38;5;28mself\u001b[39m.obj[key].ndim\n\u001b[32m    246\u001b[39m     \u001b[38;5;28;01mreturn\u001b[39;00m \u001b[38;5;28mself\u001b[39m._gotitem(key, ndim=ndim)\n",
      "\u001b[31mKeyError\u001b[39m: 'Column not found: total_sale'"
     ]
    }
   ],
   "source": [
    "ventas_por_ciudad = df.groupby('city')['total_price'].sum()\n",
    "\n",
    "print(ventas_por_ciudad)"
   ]
  }
 ],
 "metadata": {
  "kernelspec": {
   "display_name": "Python 3",
   "language": "python",
   "name": "python3"
  },
  "language_info": {
   "codemirror_mode": {
    "name": "ipython",
    "version": 3
   },
   "file_extension": ".py",
   "mimetype": "text/x-python",
   "name": "python",
   "nbconvert_exporter": "python",
   "pygments_lexer": "ipython3",
   "version": "3.13.6"
  }
 },
 "nbformat": 4,
 "nbformat_minor": 5
}
